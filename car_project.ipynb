{
 "cells": [
  {
   "cell_type": "code",
   "execution_count": 32,
   "outputs": [],
   "source": [
    "import numpy as np\n",
    "import pandas as pd"
   ],
   "metadata": {
    "collapsed": false,
    "pycharm": {
     "name": "#%%\n"
    }
   }
  },
  {
   "cell_type": "code",
   "execution_count": 33,
   "outputs": [],
   "source": [
    "# Data Pre Processing\n",
    "data = pd.read_csv(r'C:\\Users\\pooja_dj\\PycharmProjects\\flaskProject1\\car.csv')"
   ],
   "metadata": {
    "collapsed": false,
    "pycharm": {
     "name": "#%%\n"
    }
   }
  },
  {
   "cell_type": "code",
   "execution_count": 34,
   "outputs": [
    {
     "data": {
      "text/plain": "  Car_Name  Year  Selling_Price  Present_Price  Kms_Driven Fuel_Type  \\\n0     ritz  2014           3.35           5.59       27000    Petrol   \n1      sx4  2013           4.75           9.54       43000    Diesel   \n2     ciaz  2017           7.25           9.85        6900    Petrol   \n3  wagon r  2011           2.85           4.15        5200    Petrol   \n4    swift  2014           4.60           6.87       42450    Diesel   \n\n  Seller_Type Transmission  Owner  \n0      Dealer       Manual      0  \n1      Dealer       Manual      0  \n2      Dealer       Manual      0  \n3      Dealer       Manual      0  \n4      Dealer       Manual      0  ",
      "text/html": "<div>\n<style scoped>\n    .dataframe tbody tr th:only-of-type {\n        vertical-align: middle;\n    }\n\n    .dataframe tbody tr th {\n        vertical-align: top;\n    }\n\n    .dataframe thead th {\n        text-align: right;\n    }\n</style>\n<table border=\"1\" class=\"dataframe\">\n  <thead>\n    <tr style=\"text-align: right;\">\n      <th></th>\n      <th>Car_Name</th>\n      <th>Year</th>\n      <th>Selling_Price</th>\n      <th>Present_Price</th>\n      <th>Kms_Driven</th>\n      <th>Fuel_Type</th>\n      <th>Seller_Type</th>\n      <th>Transmission</th>\n      <th>Owner</th>\n    </tr>\n  </thead>\n  <tbody>\n    <tr>\n      <th>0</th>\n      <td>ritz</td>\n      <td>2014</td>\n      <td>3.35</td>\n      <td>5.59</td>\n      <td>27000</td>\n      <td>Petrol</td>\n      <td>Dealer</td>\n      <td>Manual</td>\n      <td>0</td>\n    </tr>\n    <tr>\n      <th>1</th>\n      <td>sx4</td>\n      <td>2013</td>\n      <td>4.75</td>\n      <td>9.54</td>\n      <td>43000</td>\n      <td>Diesel</td>\n      <td>Dealer</td>\n      <td>Manual</td>\n      <td>0</td>\n    </tr>\n    <tr>\n      <th>2</th>\n      <td>ciaz</td>\n      <td>2017</td>\n      <td>7.25</td>\n      <td>9.85</td>\n      <td>6900</td>\n      <td>Petrol</td>\n      <td>Dealer</td>\n      <td>Manual</td>\n      <td>0</td>\n    </tr>\n    <tr>\n      <th>3</th>\n      <td>wagon r</td>\n      <td>2011</td>\n      <td>2.85</td>\n      <td>4.15</td>\n      <td>5200</td>\n      <td>Petrol</td>\n      <td>Dealer</td>\n      <td>Manual</td>\n      <td>0</td>\n    </tr>\n    <tr>\n      <th>4</th>\n      <td>swift</td>\n      <td>2014</td>\n      <td>4.60</td>\n      <td>6.87</td>\n      <td>42450</td>\n      <td>Diesel</td>\n      <td>Dealer</td>\n      <td>Manual</td>\n      <td>0</td>\n    </tr>\n  </tbody>\n</table>\n</div>"
     },
     "execution_count": 34,
     "metadata": {},
     "output_type": "execute_result"
    }
   ],
   "source": [
    "data.head()"
   ],
   "metadata": {
    "collapsed": false,
    "pycharm": {
     "name": "#%%\n"
    }
   }
  },
  {
   "cell_type": "code",
   "execution_count": 35,
   "outputs": [],
   "source": [
    "data = data.drop(['Car_Name'], axis=1)"
   ],
   "metadata": {
    "collapsed": false,
    "pycharm": {
     "name": "#%%\n"
    }
   }
  },
  {
   "cell_type": "code",
   "execution_count": 4,
   "outputs": [],
   "source": [
    "data['current_year'] = 2021\n",
    "data['no_year'] = data['current_year'] - data['Year']"
   ],
   "metadata": {
    "collapsed": false,
    "pycharm": {
     "name": "#%%\n"
    }
   }
  },
  {
   "cell_type": "code",
   "execution_count": 5,
   "outputs": [],
   "source": [
    "# We have successfully added the current_ year now we will add number_of_years\n",
    "# column and drop Year and Current _year column.\n",
    "data = data.drop(['Year','current_year'],axis = 1)"
   ],
   "metadata": {
    "collapsed": false,
    "pycharm": {
     "name": "#%%\n"
    }
   }
  },
  {
   "cell_type": "code",
   "execution_count": 6,
   "outputs": [],
   "source": [
    "# This dataset contains some Categorical values such as fuel\n",
    "# type, owner type, seller type, so we need to encode these categorical data into an encoded format\n",
    "# to better train our model, to do this I used get_Dummies() method of pandas and this converted the\n",
    "# whole Categorical values in the dataset into binary values\n",
    "data = pd.get_dummies(data,drop_first=True)"
   ],
   "metadata": {
    "collapsed": false,
    "pycharm": {
     "name": "#%%\n"
    }
   }
  },
  {
   "cell_type": "code",
   "execution_count": 7,
   "outputs": [],
   "source": [
    "data = data[['Selling_Price','Present_Price','Kms_Driven','no_year','Owner','Fuel_Type_Diesel','Fuel_Type_Petrol','Seller_Type_Individual','Transmission_Manual']]"
   ],
   "metadata": {
    "collapsed": false,
    "pycharm": {
     "name": "#%%\n"
    }
   }
  },
  {
   "cell_type": "code",
   "execution_count": 36,
   "outputs": [
    {
     "data": {
      "text/plain": "     Year  Selling_Price  Present_Price  Kms_Driven Fuel_Type Seller_Type  \\\n0    2014           3.35           5.59       27000    Petrol      Dealer   \n1    2013           4.75           9.54       43000    Diesel      Dealer   \n2    2017           7.25           9.85        6900    Petrol      Dealer   \n3    2011           2.85           4.15        5200    Petrol      Dealer   \n4    2014           4.60           6.87       42450    Diesel      Dealer   \n..    ...            ...            ...         ...       ...         ...   \n296  2016           9.50          11.60       33988    Diesel      Dealer   \n297  2015           4.00           5.90       60000    Petrol      Dealer   \n298  2009           3.35          11.00       87934    Petrol      Dealer   \n299  2017          11.50          12.50        9000    Diesel      Dealer   \n300  2016           5.30           5.90        5464    Petrol      Dealer   \n\n    Transmission  Owner  \n0         Manual      0  \n1         Manual      0  \n2         Manual      0  \n3         Manual      0  \n4         Manual      0  \n..           ...    ...  \n296       Manual      0  \n297       Manual      0  \n298       Manual      0  \n299       Manual      0  \n300       Manual      0  \n\n[301 rows x 8 columns]",
      "text/html": "<div>\n<style scoped>\n    .dataframe tbody tr th:only-of-type {\n        vertical-align: middle;\n    }\n\n    .dataframe tbody tr th {\n        vertical-align: top;\n    }\n\n    .dataframe thead th {\n        text-align: right;\n    }\n</style>\n<table border=\"1\" class=\"dataframe\">\n  <thead>\n    <tr style=\"text-align: right;\">\n      <th></th>\n      <th>Year</th>\n      <th>Selling_Price</th>\n      <th>Present_Price</th>\n      <th>Kms_Driven</th>\n      <th>Fuel_Type</th>\n      <th>Seller_Type</th>\n      <th>Transmission</th>\n      <th>Owner</th>\n    </tr>\n  </thead>\n  <tbody>\n    <tr>\n      <th>0</th>\n      <td>2014</td>\n      <td>3.35</td>\n      <td>5.59</td>\n      <td>27000</td>\n      <td>Petrol</td>\n      <td>Dealer</td>\n      <td>Manual</td>\n      <td>0</td>\n    </tr>\n    <tr>\n      <th>1</th>\n      <td>2013</td>\n      <td>4.75</td>\n      <td>9.54</td>\n      <td>43000</td>\n      <td>Diesel</td>\n      <td>Dealer</td>\n      <td>Manual</td>\n      <td>0</td>\n    </tr>\n    <tr>\n      <th>2</th>\n      <td>2017</td>\n      <td>7.25</td>\n      <td>9.85</td>\n      <td>6900</td>\n      <td>Petrol</td>\n      <td>Dealer</td>\n      <td>Manual</td>\n      <td>0</td>\n    </tr>\n    <tr>\n      <th>3</th>\n      <td>2011</td>\n      <td>2.85</td>\n      <td>4.15</td>\n      <td>5200</td>\n      <td>Petrol</td>\n      <td>Dealer</td>\n      <td>Manual</td>\n      <td>0</td>\n    </tr>\n    <tr>\n      <th>4</th>\n      <td>2014</td>\n      <td>4.60</td>\n      <td>6.87</td>\n      <td>42450</td>\n      <td>Diesel</td>\n      <td>Dealer</td>\n      <td>Manual</td>\n      <td>0</td>\n    </tr>\n    <tr>\n      <th>...</th>\n      <td>...</td>\n      <td>...</td>\n      <td>...</td>\n      <td>...</td>\n      <td>...</td>\n      <td>...</td>\n      <td>...</td>\n      <td>...</td>\n    </tr>\n    <tr>\n      <th>296</th>\n      <td>2016</td>\n      <td>9.50</td>\n      <td>11.60</td>\n      <td>33988</td>\n      <td>Diesel</td>\n      <td>Dealer</td>\n      <td>Manual</td>\n      <td>0</td>\n    </tr>\n    <tr>\n      <th>297</th>\n      <td>2015</td>\n      <td>4.00</td>\n      <td>5.90</td>\n      <td>60000</td>\n      <td>Petrol</td>\n      <td>Dealer</td>\n      <td>Manual</td>\n      <td>0</td>\n    </tr>\n    <tr>\n      <th>298</th>\n      <td>2009</td>\n      <td>3.35</td>\n      <td>11.00</td>\n      <td>87934</td>\n      <td>Petrol</td>\n      <td>Dealer</td>\n      <td>Manual</td>\n      <td>0</td>\n    </tr>\n    <tr>\n      <th>299</th>\n      <td>2017</td>\n      <td>11.50</td>\n      <td>12.50</td>\n      <td>9000</td>\n      <td>Diesel</td>\n      <td>Dealer</td>\n      <td>Manual</td>\n      <td>0</td>\n    </tr>\n    <tr>\n      <th>300</th>\n      <td>2016</td>\n      <td>5.30</td>\n      <td>5.90</td>\n      <td>5464</td>\n      <td>Petrol</td>\n      <td>Dealer</td>\n      <td>Manual</td>\n      <td>0</td>\n    </tr>\n  </tbody>\n</table>\n<p>301 rows × 8 columns</p>\n</div>"
     },
     "execution_count": 36,
     "metadata": {},
     "output_type": "execute_result"
    }
   ],
   "source": [
    "data"
   ],
   "metadata": {
    "collapsed": false,
    "pycharm": {
     "name": "#%%\n"
    }
   }
  },
  {
   "cell_type": "code",
   "execution_count": 37,
   "outputs": [
    {
     "data": {
      "text/plain": "                   Year  Selling_Price  Present_Price  Kms_Driven     Owner\nYear           1.000000       0.236141      -0.047584   -0.524342 -0.182104\nSelling_Price  0.236141       1.000000       0.878983    0.029187 -0.088344\nPresent_Price -0.047584       0.878983       1.000000    0.203647  0.008057\nKms_Driven    -0.524342       0.029187       0.203647    1.000000  0.089216\nOwner         -0.182104      -0.088344       0.008057    0.089216  1.000000",
      "text/html": "<div>\n<style scoped>\n    .dataframe tbody tr th:only-of-type {\n        vertical-align: middle;\n    }\n\n    .dataframe tbody tr th {\n        vertical-align: top;\n    }\n\n    .dataframe thead th {\n        text-align: right;\n    }\n</style>\n<table border=\"1\" class=\"dataframe\">\n  <thead>\n    <tr style=\"text-align: right;\">\n      <th></th>\n      <th>Year</th>\n      <th>Selling_Price</th>\n      <th>Present_Price</th>\n      <th>Kms_Driven</th>\n      <th>Owner</th>\n    </tr>\n  </thead>\n  <tbody>\n    <tr>\n      <th>Year</th>\n      <td>1.000000</td>\n      <td>0.236141</td>\n      <td>-0.047584</td>\n      <td>-0.524342</td>\n      <td>-0.182104</td>\n    </tr>\n    <tr>\n      <th>Selling_Price</th>\n      <td>0.236141</td>\n      <td>1.000000</td>\n      <td>0.878983</td>\n      <td>0.029187</td>\n      <td>-0.088344</td>\n    </tr>\n    <tr>\n      <th>Present_Price</th>\n      <td>-0.047584</td>\n      <td>0.878983</td>\n      <td>1.000000</td>\n      <td>0.203647</td>\n      <td>0.008057</td>\n    </tr>\n    <tr>\n      <th>Kms_Driven</th>\n      <td>-0.524342</td>\n      <td>0.029187</td>\n      <td>0.203647</td>\n      <td>1.000000</td>\n      <td>0.089216</td>\n    </tr>\n    <tr>\n      <th>Owner</th>\n      <td>-0.182104</td>\n      <td>-0.088344</td>\n      <td>0.008057</td>\n      <td>0.089216</td>\n      <td>1.000000</td>\n    </tr>\n  </tbody>\n</table>\n</div>"
     },
     "execution_count": 37,
     "metadata": {},
     "output_type": "execute_result"
    }
   ],
   "source": [
    "# The data. corr() will give you an intuition on the correlation between all attributes in the dataset.\n",
    "# More correlated features can be removed since they can lead to overfitting of the model.\n",
    "data.corr()"
   ],
   "metadata": {
    "collapsed": false,
    "pycharm": {
     "name": "#%%\n"
    }
   }
  },
  {
   "cell_type": "code",
   "execution_count": 10,
   "outputs": [
    {
     "data": {
      "text/plain": "                        Selling_Price  Present_Price  Kms_Driven   no_year  \\\nSelling_Price                1.000000       0.878983    0.029187 -0.236141   \nPresent_Price                0.878983       1.000000    0.203647  0.047584   \nKms_Driven                   0.029187       0.203647    1.000000  0.524342   \nno_year                     -0.236141       0.047584    0.524342  1.000000   \nOwner                       -0.088344       0.008057    0.089216  0.182104   \nFuel_Type_Diesel             0.552339       0.473306    0.172515 -0.064315   \nFuel_Type_Petrol            -0.540571      -0.465244   -0.172874  0.059959   \nSeller_Type_Individual      -0.550724      -0.512030   -0.101419  0.039896   \nTransmission_Manual         -0.367128      -0.348715   -0.162510 -0.000394   \n\n                           Owner  Fuel_Type_Diesel  Fuel_Type_Petrol  \\\nSelling_Price          -0.088344          0.552339         -0.540571   \nPresent_Price           0.008057          0.473306         -0.465244   \nKms_Driven              0.089216          0.172515         -0.172874   \nno_year                 0.182104         -0.064315          0.059959   \nOwner                   1.000000         -0.053469          0.055687   \nFuel_Type_Diesel       -0.053469          1.000000         -0.979648   \nFuel_Type_Petrol        0.055687         -0.979648          1.000000   \nSeller_Type_Individual  0.124269         -0.350467          0.358321   \nTransmission_Manual    -0.050316         -0.098643          0.091013   \n\n                        Seller_Type_Individual  Transmission_Manual  \nSelling_Price                        -0.550724            -0.367128  \nPresent_Price                        -0.512030            -0.348715  \nKms_Driven                           -0.101419            -0.162510  \nno_year                               0.039896            -0.000394  \nOwner                                 0.124269            -0.050316  \nFuel_Type_Diesel                     -0.350467            -0.098643  \nFuel_Type_Petrol                      0.358321             0.091013  \nSeller_Type_Individual                1.000000             0.063240  \nTransmission_Manual                   0.063240             1.000000  ",
      "text/html": "<div>\n<style scoped>\n    .dataframe tbody tr th:only-of-type {\n        vertical-align: middle;\n    }\n\n    .dataframe tbody tr th {\n        vertical-align: top;\n    }\n\n    .dataframe thead th {\n        text-align: right;\n    }\n</style>\n<table border=\"1\" class=\"dataframe\">\n  <thead>\n    <tr style=\"text-align: right;\">\n      <th></th>\n      <th>Selling_Price</th>\n      <th>Present_Price</th>\n      <th>Kms_Driven</th>\n      <th>no_year</th>\n      <th>Owner</th>\n      <th>Fuel_Type_Diesel</th>\n      <th>Fuel_Type_Petrol</th>\n      <th>Seller_Type_Individual</th>\n      <th>Transmission_Manual</th>\n    </tr>\n  </thead>\n  <tbody>\n    <tr>\n      <th>Selling_Price</th>\n      <td>1.000000</td>\n      <td>0.878983</td>\n      <td>0.029187</td>\n      <td>-0.236141</td>\n      <td>-0.088344</td>\n      <td>0.552339</td>\n      <td>-0.540571</td>\n      <td>-0.550724</td>\n      <td>-0.367128</td>\n    </tr>\n    <tr>\n      <th>Present_Price</th>\n      <td>0.878983</td>\n      <td>1.000000</td>\n      <td>0.203647</td>\n      <td>0.047584</td>\n      <td>0.008057</td>\n      <td>0.473306</td>\n      <td>-0.465244</td>\n      <td>-0.512030</td>\n      <td>-0.348715</td>\n    </tr>\n    <tr>\n      <th>Kms_Driven</th>\n      <td>0.029187</td>\n      <td>0.203647</td>\n      <td>1.000000</td>\n      <td>0.524342</td>\n      <td>0.089216</td>\n      <td>0.172515</td>\n      <td>-0.172874</td>\n      <td>-0.101419</td>\n      <td>-0.162510</td>\n    </tr>\n    <tr>\n      <th>no_year</th>\n      <td>-0.236141</td>\n      <td>0.047584</td>\n      <td>0.524342</td>\n      <td>1.000000</td>\n      <td>0.182104</td>\n      <td>-0.064315</td>\n      <td>0.059959</td>\n      <td>0.039896</td>\n      <td>-0.000394</td>\n    </tr>\n    <tr>\n      <th>Owner</th>\n      <td>-0.088344</td>\n      <td>0.008057</td>\n      <td>0.089216</td>\n      <td>0.182104</td>\n      <td>1.000000</td>\n      <td>-0.053469</td>\n      <td>0.055687</td>\n      <td>0.124269</td>\n      <td>-0.050316</td>\n    </tr>\n    <tr>\n      <th>Fuel_Type_Diesel</th>\n      <td>0.552339</td>\n      <td>0.473306</td>\n      <td>0.172515</td>\n      <td>-0.064315</td>\n      <td>-0.053469</td>\n      <td>1.000000</td>\n      <td>-0.979648</td>\n      <td>-0.350467</td>\n      <td>-0.098643</td>\n    </tr>\n    <tr>\n      <th>Fuel_Type_Petrol</th>\n      <td>-0.540571</td>\n      <td>-0.465244</td>\n      <td>-0.172874</td>\n      <td>0.059959</td>\n      <td>0.055687</td>\n      <td>-0.979648</td>\n      <td>1.000000</td>\n      <td>0.358321</td>\n      <td>0.091013</td>\n    </tr>\n    <tr>\n      <th>Seller_Type_Individual</th>\n      <td>-0.550724</td>\n      <td>-0.512030</td>\n      <td>-0.101419</td>\n      <td>0.039896</td>\n      <td>0.124269</td>\n      <td>-0.350467</td>\n      <td>0.358321</td>\n      <td>1.000000</td>\n      <td>0.063240</td>\n    </tr>\n    <tr>\n      <th>Transmission_Manual</th>\n      <td>-0.367128</td>\n      <td>-0.348715</td>\n      <td>-0.162510</td>\n      <td>-0.000394</td>\n      <td>-0.050316</td>\n      <td>-0.098643</td>\n      <td>0.091013</td>\n      <td>0.063240</td>\n      <td>1.000000</td>\n    </tr>\n  </tbody>\n</table>\n</div>"
     },
     "execution_count": 10,
     "metadata": {},
     "output_type": "execute_result"
    }
   ],
   "source": [
    "# Splitting dataset into dependent and independent variable.\n",
    "# To train and develop a model, first of all, we need to the dependent and independent variables. To find\n",
    "# these variables, first I used to find the correlation between the variables of the output and then separates\n",
    "# my variables into two different axes we call it x and y where the x-axis contains all the independent\n",
    "# variable and y-axis having the dependent variable, in our model its selling price of the Used Cars.\n",
    "x = data.iloc[:,1:]\n",
    "y = data.iloc[:,0]"
   ],
   "metadata": {
    "collapsed": false,
    "pycharm": {
     "name": "#%%\n"
    }
   }
  },
  {
   "cell_type": "code",
   "execution_count": 11,
   "outputs": [],
   "source": [
    "# extratressregressor library allows you to view feature importances\n",
    "# and thereby remove the less important features from the data\n",
    "from sklearn.ensemble import ExtraTreesRegressor\n",
    "model = ExtraTreesRegressor()\n",
    "model.fit(x,y)"
   ],
   "metadata": {
    "collapsed": false,
    "pycharm": {
     "name": "#%%\n"
    }
   }
  },
  {
   "cell_type": "code",
   "execution_count": 12,
   "outputs": [
    {
     "data": {
      "text/plain": "ExtraTreesRegressor()"
     },
     "execution_count": 12,
     "metadata": {},
     "output_type": "execute_result"
    }
   ],
   "source": [
    "model.feature_importances_"
   ],
   "metadata": {
    "collapsed": false,
    "pycharm": {
     "name": "#%%\n"
    }
   }
  },
  {
   "cell_type": "code",
   "execution_count": 13,
   "outputs": [
    {
     "data": {
      "text/plain": "array([4.22153317e-01, 3.67527994e-02, 8.33441196e-02, 3.53829940e-04,\n       2.02623652e-01, 1.09924302e-02, 1.22396094e-01, 1.21383757e-01])"
     },
     "execution_count": 13,
     "metadata": {},
     "output_type": "execute_result"
    }
   ],
   "source": [
    "from sklearn.model_selection import train_test_split\n",
    "x_train, x_test,y_train,y_test = train_test_split(x,y,random_state=0,test_size=0.2)"
   ],
   "metadata": {
    "collapsed": false,
    "pycharm": {
     "name": "#%%\n"
    }
   }
  },
  {
   "cell_type": "code",
   "execution_count": 14,
   "outputs": [],
   "source": [
    "# Hyperparameter Optimization to get good results\n",
    "# This is done so as to get the optimal values for use in our model,\n",
    "n_estimators = [int(x) for x in np.linspace(start = 100, stop = 1200,num = 12)]\n",
    "max_features = ['auto','sqrt']\n",
    "max_depth = [int(x) for x in np.linspace(5,30,num = 6)]\n",
    "min_samples_split = [2,5,10,15,100]\n",
    "min_samples_leaf  = [1,2,5,10]"
   ],
   "metadata": {
    "collapsed": false,
    "pycharm": {
     "name": "#%%\n"
    }
   }
  },
  {
   "cell_type": "code",
   "execution_count": 15,
   "outputs": [],
   "source": [
    "from sklearn.model_selection import RandomizedSearchCV"
   ],
   "metadata": {
    "collapsed": false,
    "pycharm": {
     "name": "#%%\n"
    }
   }
  },
  {
   "cell_type": "code",
   "execution_count": 16,
   "outputs": [],
   "source": [
    "# Training the model\n",
    "# used the random forest regressor to predict the selling prices\n",
    "# since this is a regression problem\n",
    "# and that random forest uses multiple decision trees\n",
    "grid = {'n_estimators': n_estimators,\n",
    "        'max_features': max_features,\n",
    "        'max_depth': max_depth,\n",
    "        'min_samples_split': min_samples_split,\n",
    "       'min_samples_leaf': min_samples_leaf}\n",
    "print(grid)"
   ],
   "metadata": {
    "collapsed": false,
    "pycharm": {
     "name": "#%%\n"
    }
   }
  },
  {
   "cell_type": "code",
   "execution_count": 17,
   "outputs": [
    {
     "name": "stdout",
     "output_type": "stream",
     "text": [
      "{'n_estimators': [100, 200, 300, 400, 500, 600, 700, 800, 900, 1000, 1100, 1200], 'max_features': ['auto', 'sqrt'], 'max_depth': [5, 10, 15, 20, 25, 30], 'min_samples_split': [2, 5, 10, 15, 100], 'min_samples_leaf': [1, 2, 5, 10]}\n"
     ]
    }
   ],
   "source": [
    "#  RandomizedSearchCV to get the best Hyper-Parameters for result prediction\n",
    "from sklearn.ensemble import RandomForestRegressor\n",
    "model = RandomForestRegressor()\n",
    "\n",
    "hyp = RandomizedSearchCV(estimator = model,param_distributions=grid,\n",
    "    n_iter=10,\n",
    "    scoring= 'neg_mean_squared_error',\n",
    "    cv=5,verbose = 2, random_state = 42,n_jobs = 1)"
   ],
   "metadata": {
    "collapsed": false,
    "pycharm": {
     "name": "#%%\n"
    }
   }
  },
  {
   "cell_type": "code",
   "execution_count": 18,
   "outputs": [],
   "source": [
    "hyp.fit(x_train,y_train)"
   ],
   "metadata": {
    "collapsed": false,
    "pycharm": {
     "name": "#%%\n"
    }
   }
  },
  {
   "cell_type": "code",
   "execution_count": 19,
   "outputs": [
    {
     "name": "stdout",
     "output_type": "stream",
     "text": [
      "Fitting 5 folds for each of 10 candidates, totalling 50 fits\n",
      "[CV] END max_depth=10, max_features=sqrt, min_samples_leaf=5, min_samples_split=5, n_estimators=900; total time=   1.0s\n",
      "[CV] END max_depth=10, max_features=sqrt, min_samples_leaf=5, min_samples_split=5, n_estimators=900; total time=   0.9s\n",
      "[CV] END max_depth=10, max_features=sqrt, min_samples_leaf=5, min_samples_split=5, n_estimators=900; total time=   0.9s\n",
      "[CV] END max_depth=10, max_features=sqrt, min_samples_leaf=5, min_samples_split=5, n_estimators=900; total time=   1.4s\n",
      "[CV] END max_depth=10, max_features=sqrt, min_samples_leaf=5, min_samples_split=5, n_estimators=900; total time=   1.4s\n",
      "[CV] END max_depth=15, max_features=sqrt, min_samples_leaf=2, min_samples_split=10, n_estimators=1100; total time=   1.1s\n",
      "[CV] END max_depth=15, max_features=sqrt, min_samples_leaf=2, min_samples_split=10, n_estimators=1100; total time=   1.4s\n",
      "[CV] END max_depth=15, max_features=sqrt, min_samples_leaf=2, min_samples_split=10, n_estimators=1100; total time=   1.8s\n",
      "[CV] END max_depth=15, max_features=sqrt, min_samples_leaf=2, min_samples_split=10, n_estimators=1100; total time=   1.7s\n",
      "[CV] END max_depth=15, max_features=sqrt, min_samples_leaf=2, min_samples_split=10, n_estimators=1100; total time=   1.7s\n",
      "[CV] END max_depth=15, max_features=auto, min_samples_leaf=5, min_samples_split=100, n_estimators=300; total time=   0.5s\n",
      "[CV] END max_depth=15, max_features=auto, min_samples_leaf=5, min_samples_split=100, n_estimators=300; total time=   0.3s\n",
      "[CV] END max_depth=15, max_features=auto, min_samples_leaf=5, min_samples_split=100, n_estimators=300; total time=   0.3s\n",
      "[CV] END max_depth=15, max_features=auto, min_samples_leaf=5, min_samples_split=100, n_estimators=300; total time=   0.3s\n",
      "[CV] END max_depth=15, max_features=auto, min_samples_leaf=5, min_samples_split=100, n_estimators=300; total time=   0.3s\n",
      "[CV] END max_depth=15, max_features=auto, min_samples_leaf=5, min_samples_split=5, n_estimators=400; total time=   0.4s\n",
      "[CV] END max_depth=15, max_features=auto, min_samples_leaf=5, min_samples_split=5, n_estimators=400; total time=   0.5s\n",
      "[CV] END max_depth=15, max_features=auto, min_samples_leaf=5, min_samples_split=5, n_estimators=400; total time=   0.4s\n",
      "[CV] END max_depth=15, max_features=auto, min_samples_leaf=5, min_samples_split=5, n_estimators=400; total time=   0.4s\n",
      "[CV] END max_depth=15, max_features=auto, min_samples_leaf=5, min_samples_split=5, n_estimators=400; total time=   0.6s\n",
      "[CV] END max_depth=20, max_features=auto, min_samples_leaf=10, min_samples_split=5, n_estimators=700; total time=   1.1s\n",
      "[CV] END max_depth=20, max_features=auto, min_samples_leaf=10, min_samples_split=5, n_estimators=700; total time=   0.7s\n",
      "[CV] END max_depth=20, max_features=auto, min_samples_leaf=10, min_samples_split=5, n_estimators=700; total time=   0.7s\n",
      "[CV] END max_depth=20, max_features=auto, min_samples_leaf=10, min_samples_split=5, n_estimators=700; total time=   0.7s\n",
      "[CV] END max_depth=20, max_features=auto, min_samples_leaf=10, min_samples_split=5, n_estimators=700; total time=   0.7s\n",
      "[CV] END max_depth=25, max_features=sqrt, min_samples_leaf=1, min_samples_split=2, n_estimators=1000; total time=   1.2s\n",
      "[CV] END max_depth=25, max_features=sqrt, min_samples_leaf=1, min_samples_split=2, n_estimators=1000; total time=   1.2s\n",
      "[CV] END max_depth=25, max_features=sqrt, min_samples_leaf=1, min_samples_split=2, n_estimators=1000; total time=   1.1s\n",
      "[CV] END max_depth=25, max_features=sqrt, min_samples_leaf=1, min_samples_split=2, n_estimators=1000; total time=   1.1s\n",
      "[CV] END max_depth=25, max_features=sqrt, min_samples_leaf=1, min_samples_split=2, n_estimators=1000; total time=   1.1s\n",
      "[CV] END max_depth=5, max_features=sqrt, min_samples_leaf=10, min_samples_split=15, n_estimators=1100; total time=   1.7s\n",
      "[CV] END max_depth=5, max_features=sqrt, min_samples_leaf=10, min_samples_split=15, n_estimators=1100; total time=   1.6s\n",
      "[CV] END max_depth=5, max_features=sqrt, min_samples_leaf=10, min_samples_split=15, n_estimators=1100; total time=   1.1s\n",
      "[CV] END max_depth=5, max_features=sqrt, min_samples_leaf=10, min_samples_split=15, n_estimators=1100; total time=   1.3s\n",
      "[CV] END max_depth=5, max_features=sqrt, min_samples_leaf=10, min_samples_split=15, n_estimators=1100; total time=   0.9s\n",
      "[CV] END max_depth=15, max_features=sqrt, min_samples_leaf=1, min_samples_split=15, n_estimators=300; total time=   0.2s\n",
      "[CV] END max_depth=15, max_features=sqrt, min_samples_leaf=1, min_samples_split=15, n_estimators=300; total time=   0.2s\n",
      "[CV] END max_depth=15, max_features=sqrt, min_samples_leaf=1, min_samples_split=15, n_estimators=300; total time=   0.2s\n",
      "[CV] END max_depth=15, max_features=sqrt, min_samples_leaf=1, min_samples_split=15, n_estimators=300; total time=   0.2s\n",
      "[CV] END max_depth=15, max_features=sqrt, min_samples_leaf=1, min_samples_split=15, n_estimators=300; total time=   0.2s\n",
      "[CV] END max_depth=5, max_features=sqrt, min_samples_leaf=2, min_samples_split=10, n_estimators=700; total time=   0.6s\n",
      "[CV] END max_depth=5, max_features=sqrt, min_samples_leaf=2, min_samples_split=10, n_estimators=700; total time=   0.6s\n",
      "[CV] END max_depth=5, max_features=sqrt, min_samples_leaf=2, min_samples_split=10, n_estimators=700; total time=   0.6s\n",
      "[CV] END max_depth=5, max_features=sqrt, min_samples_leaf=2, min_samples_split=10, n_estimators=700; total time=   0.9s\n",
      "[CV] END max_depth=5, max_features=sqrt, min_samples_leaf=2, min_samples_split=10, n_estimators=700; total time=   0.7s\n",
      "[CV] END max_depth=20, max_features=auto, min_samples_leaf=1, min_samples_split=15, n_estimators=700; total time=   0.7s\n",
      "[CV] END max_depth=20, max_features=auto, min_samples_leaf=1, min_samples_split=15, n_estimators=700; total time=   0.7s\n",
      "[CV] END max_depth=20, max_features=auto, min_samples_leaf=1, min_samples_split=15, n_estimators=700; total time=   0.7s\n",
      "[CV] END max_depth=20, max_features=auto, min_samples_leaf=1, min_samples_split=15, n_estimators=700; total time=   0.7s\n",
      "[CV] END max_depth=20, max_features=auto, min_samples_leaf=1, min_samples_split=15, n_estimators=700; total time=   0.6s\n"
     ]
    },
    {
     "data": {
      "text/plain": "RandomizedSearchCV(cv=5, estimator=RandomForestRegressor(), n_jobs=1,\n                   param_distributions={'max_depth': [5, 10, 15, 20, 25, 30],\n                                        'max_features': ['auto', 'sqrt'],\n                                        'min_samples_leaf': [1, 2, 5, 10],\n                                        'min_samples_split': [2, 5, 10, 15,\n                                                              100],\n                                        'n_estimators': [100, 200, 300, 400,\n                                                         500, 600, 700, 800,\n                                                         900, 1000, 1100,\n                                                         1200]},\n                   random_state=42, scoring='neg_mean_squared_error',\n                   verbose=2)"
     },
     "execution_count": 19,
     "metadata": {},
     "output_type": "execute_result"
    }
   ],
   "source": [
    "y_pred = hyp.predict(x_test)"
   ],
   "metadata": {
    "collapsed": false,
    "pycharm": {
     "name": "#%%\n"
    }
   }
  },
  {
   "cell_type": "code",
   "execution_count": 20,
   "outputs": [],
   "source": [
    "y_pred"
   ],
   "metadata": {
    "collapsed": false,
    "pycharm": {
     "name": "#%%\n"
    }
   }
  },
  {
   "cell_type": "code",
   "execution_count": 21,
   "outputs": [
    {
     "data": {
      "text/plain": "array([ 6.96364359,  0.51652227,  4.96030922,  8.43550216, 12.37294619,\n        5.27565458,  3.35365899,  0.42820921,  3.95276259,  4.99873546,\n        2.83432981,  0.66529552,  5.10333361,  7.21752596,  7.49439608,\n       12.58821293,  6.90574807,  4.16742962,  0.47790937,  1.30604499,\n        3.30283042,  5.21053342,  5.38910498, 10.41723769,  0.23656983,\n        0.68748747,  0.32812626,  0.67517715,  0.5032538 ,  4.80458004,\n        2.83760214,  5.85653461,  0.5175797 ,  7.07787954,  3.30992279,\n        1.15034107,  5.70258233,  5.46126919,  0.25320481,  7.72341556,\n        7.62482424, 21.90887121,  5.08959105,  4.52329351,  5.61250524,\n       10.32688177,  0.25634437,  0.75136923,  5.39604885,  6.72708073,\n        6.68868343,  2.96474514,  5.30057794, 21.91741189,  1.15043   ,\n        1.14969786,  0.41575215,  2.76276564,  3.68672704,  2.49986732,\n        4.53684139])"
     },
     "execution_count": 21,
     "metadata": {},
     "output_type": "execute_result"
    }
   ],
   "source": [
    "import seaborn as sns"
   ],
   "metadata": {
    "collapsed": false,
    "pycharm": {
     "name": "#%%\n"
    }
   }
  },
  {
   "cell_type": "code",
   "execution_count": 38,
   "outputs": [
    {
     "name": "stderr",
     "output_type": "stream",
     "text": [
      "C:\\Users\\pooja_dj\\PycharmProjects\\flaskProject1\\venv\\lib\\site-packages\\seaborn\\distributions.py:2557: FutureWarning: `distplot` is a deprecated function and will be removed in a future version. Please adapt your code to use either `displot` (a figure-level function with similar flexibility) or `histplot` (an axes-level function for histograms).\n",
      "  warnings.warn(msg, FutureWarning)\n"
     ]
    },
    {
     "data": {
      "text/plain": "<AxesSubplot:xlabel='Selling_Price', ylabel='Density'>"
     },
     "execution_count": 38,
     "metadata": {},
     "output_type": "execute_result"
    },
    {
     "data": {
      "text/plain": "<Figure size 432x288 with 1 Axes>",
      "image/png": "[encoded data removed]"
     },
     "metadata": {
      "needs_background": "light"
     },
     "output_type": "display_data"
    }
   ],
   "source": [
    "sns.distplot(y_test-y_pred)\n"
   ],
   "metadata": {
    "collapsed": false,
    "pycharm": {
     "name": "#%%\n"
    }
   }
  },
  {
   "cell_type": "code",
   "execution_count": 39,
   "outputs": [
    {
     "name": "stdout",
     "output_type": "stream",
     "text": [
      "0.924195704773637\n"
     ]
    }
   ],
   "source": [
    "# R² Score: It is a statistical measure of how close the data\n",
    "# are to the fitted regression line\n",
    "from sklearn.metrics import r2_score\n",
    "print(r2_score(y_test,y_pred))"
   ],
   "metadata": {
    "collapsed": false,
    "pycharm": {
     "name": "#%%\n"
    }
   }
  },
  {
   "cell_type": "code",
   "execution_count": 24,
   "outputs": [
    {
     "data": {
      "text/plain": "<matplotlib.collections.PathCollection at 0x1f4b5eb6910>"
     },
     "execution_count": 24,
     "metadata": {},
     "output_type": "execute_result"
    },
    {
     "data": {
      "text/plain": "<Figure size 432x288 with 1 Axes>",
      "image/png": "[encoded data removed]"
     },
     "metadata": {
      "needs_background": "light"
     },
     "output_type": "display_data"
    }
   ],
   "source": [
    "# Flask framework for deployment, it is necessary to pack this whole model and\n",
    "# import it into the python file for creating web applications.\n",
    "# Hence we dump our model into the pickle file using the given code.\n",
    "import pickle\n",
    "file = open('file.pkl','wb')\n",
    "\n",
    "pickle.dump(hyp,file)\n",
    "\n",
    "\n",
    "\n",
    "\n"
   ],
   "metadata": {
    "collapsed": false,
    "pycharm": {
     "name": "#%%\n"
    }
   }
  }
 ],
 "metadata": {
  "kernelspec": {
   "name": "pycharm-77729a3e",
   "language": "python",
   "display_name": "PyCharm (flaskProject1)"
  },
  "language_info": {
   "codemirror_mode": {
    "name": "ipython",
    "version": 2
   },
   "file_extension": ".py",
   "mimetype": "text/x-python",
   "name": "python",
   "nbconvert_exporter": "python",
   "pygments_lexer": "ipython2",
   "version": "2.7.6"
  }
 },
 "nbformat": 4,
 "nbformat_minor": 0
}